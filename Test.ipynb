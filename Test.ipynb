{
 "cells": [
  {
   "cell_type": "markdown",
   "id": "e770779b",
   "metadata": {},
   "source": [
    "# 模型检测\n",
    "使用刚刚训练好的模型来进行检测"
   ]
  },
  {
   "cell_type": "code",
   "execution_count": 1,
   "id": "21e3319c",
   "metadata": {},
   "outputs": [
    {
     "name": "stdout",
     "output_type": "stream",
     "text": [
      "[PhysicalDevice(name='/physical_device:GPU:0', device_type='GPU')]\n"
     ]
    }
   ],
   "source": [
    "# 设置使用GPU运行\n",
    "import tensorflow as tf\n",
    "\n",
    "gpus = tf.config.list_physical_devices(\"GPU\")\n",
    "\n",
    "if gpus:\n",
    "    tf.config.experimental.set_memory_growth(gpus[0], True)  #设置GPU显存用量按需使用\n",
    "    tf.config.set_visible_devices([gpus[0]],\"GPU\")\n",
    "\n",
    "print(gpus)"
   ]
  },
  {
   "cell_type": "markdown",
   "id": "0b1e3cfc",
   "metadata": {},
   "source": [
    "此处同样使用tf.keras.preprocessing.image_dataset_from_directory从测试集导入数据，不需要进行进一步划分，在Train&Save.ipynb里的参数validation_split(验证集比例)、subset(数据集类型)和seed(随机划分种子)均不必再设置"
   ]
  },
  {
   "cell_type": "code",
   "execution_count": 2,
   "id": "c0fe685c",
   "metadata": {},
   "outputs": [
    {
     "name": "stdout",
     "output_type": "stream",
     "text": [
      "Found 3326 files belonging to 3 classes.\n",
      "['cloud', 'cloudy', 'sun']\n"
     ]
    }
   ],
   "source": [
    "img_height = 200\n",
    "img_width  = 150\n",
    "batch_size = 9\n",
    "\n",
    "\"\"\"\n",
    "设置测试集\n",
    "\"\"\"\n",
    "test_ds = tf.keras.preprocessing.image_dataset_from_directory(\n",
    "    \"./TestDataSet/\",\n",
    "    label_mode = \"categorical\",\n",
    "    image_size=(img_height, img_width),\n",
    "    batch_size=batch_size)\n",
    "class_names = test_ds.class_names\n",
    "print(class_names)"
   ]
  },
  {
   "cell_type": "code",
   "execution_count": 3,
   "id": "75fecf4b",
   "metadata": {},
   "outputs": [],
   "source": [
    "# 导入预先训练好的模型\n",
    "from  tensorflow.keras.models import load_model\n",
    "Des_classifier=load_model(\"my_model_DesNet.h5\")\n",
    "Res_classifier=load_model(\"my_model_ResNet.h5\")"
   ]
  },
  {
   "cell_type": "code",
   "execution_count": 4,
   "id": "a835557f",
   "metadata": {},
   "outputs": [
    {
     "name": "stdout",
     "output_type": "stream",
     "text": [
      "已检测9.02 %的数据\n",
      "已检测18.04 %的数据\n",
      "已检测27.06 %的数据\n",
      "已检测36.08 %的数据\n",
      "已检测45.10 %的数据\n",
      "已检测54.12 %的数据\n",
      "已检测63.14 %的数据\n",
      "已检测72.16 %的数据\n",
      "已检测81.18 %的数据\n",
      "已检测90.20 %的数据\n",
      "已检测99.22 %的数据\n",
      "共 3326 张测试图，DenseNet正确识别 3292 张，RenseNet正确识别 3299 张\n",
      "DenseNet正确率: 98.98 %     RenseNet正确率:99.19 %\n"
     ]
    }
   ],
   "source": [
    "# 测试一下准确率\n",
    "from PIL import Image\n",
    "import os\n",
    "import numpy as np\n",
    "test_dir = \"./TestDataSet/\"\n",
    "test_dirs = os.listdir(test_dir)\n",
    "\n",
    "i,j,k = 0, 0, 0\n",
    "for images, labels in test_ds:\n",
    "    for img, label in zip(images, labels):\n",
    "        i = i+1\n",
    "        if i%300 == 0 :\n",
    "            print(\"已检测%.2f\"%(i/33.26),\"%的数据\")\n",
    "        image = tf.image.resize(img, [img_height, img_width])/255.0\n",
    "        # 测试前需要给图片增加一个维度\n",
    "        img_array = tf.expand_dims(image, 0) \n",
    "        \n",
    "        prediction1 = Des_classifier.predict(img_array)\n",
    "        prediction2 = Res_classifier.predict(img_array)\n",
    "        if class_names[np.argmax(prediction1)] == class_names[np.argmax(label)]:\n",
    "            j=j+1\n",
    "        if class_names[np.argmax(prediction2)] == class_names[np.argmax(label)]:\n",
    "            k=k+1\n",
    "\n",
    "print(\"共\",i,\"张测试图，DenseNet正确识别\",j,\"张，RenseNet正确识别\",k,\"张\")\n",
    "print(\"DenseNet正确率: %.2f\"%(j/i*100),\"%    \",\"RenseNet正确率:%.2f\"%(k/i*100),\"%\")"
   ]
  },
  {
   "cell_type": "code",
   "execution_count": 5,
   "id": "13c928ce",
   "metadata": {},
   "outputs": [
    {
     "data": {
      "image/png": "[encoded data removed]",
      "text/plain": [
       "<Figure size 1080x432 with 4 Axes>"
      ]
     },
     "metadata": {
      "needs_background": "light"
     },
     "output_type": "display_data"
    }
   ],
   "source": [
    "from sklearn.metrics import confusion_matrix\n",
    "import seaborn as sns\n",
    "import pandas as pd\n",
    "import matplotlib.pyplot as plt\n",
    "\n",
    "# 定义一个绘制混淆矩阵图的函数\n",
    "def plot_cm(labels1, predictions1,labels2, predictions2):\n",
    "    \n",
    "    # 生成混淆矩阵\n",
    "    conf_numpy1 = confusion_matrix(labels1, predictions1)\n",
    "    conf_numpy2 = confusion_matrix(labels2, predictions2)\n",
    "    # 将矩阵转化为 DataFrame\n",
    "    conf_df1 = pd.DataFrame(conf_numpy1, index=class_names ,columns=class_names)  \n",
    "    conf_df2 = pd.DataFrame(conf_numpy2, index=class_names ,columns=class_names)  \n",
    "    \n",
    "    plt.figure(figsize=(15,6))\n",
    "    plt.rcParams['font.sans-serif'] = ['SimHei']\n",
    "    plt.subplot(1,2,1)\n",
    "    sns.heatmap(conf_df1, annot=True, fmt=\"d\", cmap=\"Blues\")\n",
    "    plt.suptitle('混淆矩阵')\n",
    "    \n",
    "    plt.title('DenseNet121',fontsize=15)\n",
    "    plt.ylabel('真实值',fontsize=14)\n",
    "    plt.xlabel(' 预测值',fontsize=14)\n",
    "    plt.subplot(1,2,2)\n",
    "    sns.heatmap(conf_df2, annot=True, fmt=\"d\", cmap=\"Blues\")\n",
    "    \n",
    "    plt.title('ResNet50',fontsize=15)\n",
    "    plt.ylabel('真实值',fontsize=14)\n",
    "    plt.xlabel('预测值',fontsize=14)\n",
    "\n",
    "val_pre1   = []\n",
    "val_label1 = []\n",
    "val_pre2   = []\n",
    "val_label2 = []\n",
    "\n",
    "for images, labels in test_ds:#这里可以取部分验证数据（.take(1)）生成混淆矩阵\n",
    "    for img, label in zip(images, labels):\n",
    "        image = tf.image.resize(img, [img_height, img_width])/255.0\n",
    "        # 测试前需要给图片增加一个维度\n",
    "        img_array = tf.expand_dims(image, 0) \n",
    "        \n",
    "        prediction1 = Des_classifier.predict(img_array)\n",
    "        prediction2 = Res_classifier.predict(img_array)\n",
    "\n",
    "        val_pre1.append(np.argmax(prediction1))\n",
    "        val_label1.append([np.argmax(one_hot)for one_hot in [label]])\n",
    "        val_pre2.append(np.argmax(prediction2))\n",
    "        val_label2.append([np.argmax(one_hot)for one_hot in [label]])\n",
    "plot_cm(val_label1, val_pre1,val_label2, val_pre2)"
   ]
  }
 ],
 "metadata": {
  "kernelspec": {
   "display_name": "Python 3 (ipykernel)",
   "language": "python",
   "name": "python3"
  },
  "language_info": {
   "codemirror_mode": {
    "name": "ipython",
    "version": 3
   },
   "file_extension": ".py",
   "mimetype": "text/x-python",
   "name": "python",
   "nbconvert_exporter": "python",
   "pygments_lexer": "ipython3",
   "version": "3.7.13"
  }
 },
 "nbformat": 4,
 "nbformat_minor": 5
}
